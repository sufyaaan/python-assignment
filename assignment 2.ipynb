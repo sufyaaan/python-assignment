{
 "cells": [
  {
   "cell_type": "code",
   "execution_count": 1,
   "metadata": {},
   "outputs": [
    {
     "name": "stdout",
     "output_type": "stream",
     "text": [
      "Enter physics marks100\n",
      "Enter chemistry marks100\n",
      "Enter maths marks100\n",
      "Enter urdu marks60\n",
      "Enter english marks75\n",
      "A-one garde\n"
     ]
    }
   ],
   "source": [
    "physics = int ( input (\"Enter physics marks\"))\n",
    "chemistry = int ( input(\"Enter chemistry marks\"))\n",
    "maths = int ( input (\"Enter maths marks\"))\n",
    "urdu = int ( input (\"Enter urdu marks\"))\n",
    "english = int ( input (\"Enter english marks\"))\n",
    "percentage = ((physics + chemistry + maths + urdu + english)/500) * 100\n",
    "if percentage<100 and percentage>=80:\n",
    "    print (\"A-one garde\")\n",
    "elif percentage<80 and percentage>=70:\n",
    "    print (\"A grade\")\n",
    "elif percentage<70 and percentage>=60:\n",
    "    print (\"B grade\")\n",
    "elif percentage<60 and percentage>=50:\n",
    "    print (\"C grade\")\n",
    "elif percentage<50 and percentage>=40:\n",
    "    print (\"D grade\")\n",
    "elif percentage<40 and percentage>=0:\n",
    "    print (\"F grade\")\n",
    "else:\n",
    "    print(\"Wrong marks added\")"
   ]
  },
  {
   "cell_type": "code",
   "execution_count": 10,
   "metadata": {},
   "outputs": [
    {
     "name": "stdout",
     "output_type": "stream",
     "text": [
      "Enter the number : 4\n",
      "Number is even\n"
     ]
    }
   ],
   "source": [
    "number = int(input(\"Enter the number : \"))\n",
    "check = number%2\n",
    "if check==0 :\n",
    "    print(\"Number is even\")\n",
    "else:\n",
    "    print(\"Number is odd\") "
   ]
  },
  {
   "cell_type": "code",
   "execution_count": 12,
   "metadata": {},
   "outputs": [
    {
     "data": {
      "text/plain": [
       "9"
      ]
     },
     "execution_count": 12,
     "metadata": {},
     "output_type": "execute_result"
    }
   ],
   "source": [
    "cities = [\"KHI\" , \"LHR\" , \"ISB\" , \"FSB\" , \"HYD\" , \"BHP\" , \"ABT\" , \"SKR\" , \"MUR\"]\n",
    "len(cities)"
   ]
  },
  {
   "cell_type": "code",
   "execution_count": null,
   "metadata": {},
   "outputs": [],
   "source": []
  }
 ],
 "metadata": {
  "kernelspec": {
   "display_name": "Python 3",
   "language": "python",
   "name": "python3"
  },
  "language_info": {
   "codemirror_mode": {
    "name": "ipython",
    "version": 3
   },
   "file_extension": ".py",
   "mimetype": "text/x-python",
   "name": "python",
   "nbconvert_exporter": "python",
   "pygments_lexer": "ipython3",
   "version": "3.7.4"
  }
 },
 "nbformat": 4,
 "nbformat_minor": 2
}

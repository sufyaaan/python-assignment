{
 "cells": [
  {
   "cell_type": "code",
   "execution_count": 1,
   "metadata": {},
   "outputs": [
    {
     "name": "stdout",
     "output_type": "stream",
     "text": [
      "Enter first value 45\n",
      "Enter second value 6\n",
      "Enter operator +\n",
      "51 answer\n"
     ]
    }
   ],
   "source": [
    "value1 = int(input ('Enter first value '))\n",
    "value2 = int(input ('Enter second value '))\n",
    "operator = input ('Enter operator ')\n",
    "if operator == '+':\n",
    "    value = value1 + value2\n",
    "    print (value,\"answer\")\n",
    "elif operator == '-':\n",
    "    value = value1 + value2\n",
    "    print (value,\"answer\")\n",
    "elif operator == '*':\n",
    "    value = value1 * value2\n",
    "    print (value,\"answer\")\n",
    "elif operator == '/':\n",
    "    value = value1/value2\n",
    "    print (value,\"answer\")\n",
    "elif operator == '^':\n",
    "    value = value1**value2\n",
    "    print (value, \"answer\")  \n",
    "else:\n",
    "    print(\"enter correct operation\")"
   ]
  },
  {
   "cell_type": "code",
   "execution_count": 2,
   "metadata": {},
   "outputs": [
    {
     "name": "stdout",
     "output_type": "stream",
     "text": [
      "doesn't exists\n",
      "doesn't exists\n",
      "doesn't exists\n",
      "numeric value exists\n",
      "numeric value exists\n"
     ]
    }
   ],
   "source": [
    "lis = [\"hello\" , \"hey\" , \"what's up\" , 2 , 3]\n",
    "for numeric in lis:\n",
    "    if numeric == 2:\n",
    "        print (\"numeric value exists\")\n",
    "    elif numeric == 3:\n",
    "        print (\"numeric value exists\")\n",
    "    else:\n",
    "        print (\"doesn't exists\")\n",
    "###This is not a real solution I would like to be given an actual solutuin by instructor###"
   ]
  },
  {
   "cell_type": "code",
   "execution_count": 3,
   "metadata": {},
   "outputs": [
    {
     "name": "stdout",
     "output_type": "stream",
     "text": [
      "{'Name': 'Sufyan', 'Age': '19', 'Department': 'petroleum', 'city': 'Karachi'}\n"
     ]
    }
   ],
   "source": [
    "data = {\"Name\" : \"Sufyan\",\n",
    "       \"Age\" : \"19\",\n",
    "       \"Department\" : \"petroleum\"}\n",
    "data[\"city\"] = \"Karachi\"\n",
    "print(data)"
   ]
  },
  {
   "cell_type": "code",
   "execution_count": 4,
   "metadata": {},
   "outputs": [
    {
     "name": "stdout",
     "output_type": "stream",
     "text": [
      "410\n"
     ]
    }
   ],
   "source": [
    "d = { 'a' : 100,\n",
    "    'b' : 300,\n",
    "    'c' : 10}\n",
    "sum1 = int(sum(d[item] for item in d))\n",
    "print(sum1)"
   ]
  },
  {
   "cell_type": "code",
   "execution_count": 13,
   "metadata": {},
   "outputs": [
    {
     "name": "stdout",
     "output_type": "stream",
     "text": [
      "2\n",
      "20\n",
      "4\n"
     ]
    }
   ],
   "source": [
    "ini_list = [2, 4, 10, 20, 5, 2, 20, 4]\n",
    "final_list =[]\n",
    "for num in ini_list:\n",
    "        if num not in final_list:\n",
    "            final_list.append(num)\n",
    "        else:\n",
    "            print(num)"
   ]
  },
  {
   "cell_type": "code",
   "execution_count": 14,
   "metadata": {},
   "outputs": [
    {
     "name": "stdout",
     "output_type": "stream",
     "text": [
      "2.774\n"
     ]
    }
   ],
   "source": [
    "data = {\"Name\" : \"Sufyan\",\n",
    "       \"Age\" : \"19\",\n",
    "       \"Department\" : \"petroleum\",\n",
    "       \"cgpa\" : \"2.774\"}\n",
    "cgpa_of_student = data[\"cgpa\"]\n",
    "print (cgpa_of_student)"
   ]
  },
  {
   "cell_type": "code",
   "execution_count": null,
   "metadata": {},
   "outputs": [],
   "source": []
  }
 ],
 "metadata": {
  "kernelspec": {
   "display_name": "Python 3",
   "language": "python",
   "name": "python3"
  },
  "language_info": {
   "codemirror_mode": {
    "name": "ipython",
    "version": 3
   },
   "file_extension": ".py",
   "mimetype": "text/x-python",
   "name": "python",
   "nbconvert_exporter": "python",
   "pygments_lexer": "ipython3",
   "version": "3.7.4"
  }
 },
 "nbformat": 4,
 "nbformat_minor": 2
}

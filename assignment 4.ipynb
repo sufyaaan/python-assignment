{
 "cells": [
  {
   "cell_type": "code",
   "execution_count": 1,
   "metadata": {},
   "outputs": [
    {
     "name": "stdout",
     "output_type": "stream",
     "text": [
      "{'first_name': 'Gretchen', 'last_name': 'Elliot', 'age': '22', 'city': 'LA'}\n"
     ]
    }
   ],
   "source": [
    "dictionary = {\n",
    "    \"first_name\" : \"Gretchen\",\n",
    "    \"last_name\" : \"Elliot\",\n",
    "    \"age\" : \"22\",\n",
    "    \"city\" : \"LA\"\n",
    "}\n",
    "print(dictionary)"
   ]
  },
  {
   "cell_type": "code",
   "execution_count": 5,
   "metadata": {},
   "outputs": [
    {
     "name": "stdout",
     "output_type": "stream",
     "text": [
      "{'first_name': 'Gretchen', 'last_name': 'Elliot', 'age': '22', 'city': 'LA', 'qualification': 'Graduate'}\n"
     ]
    }
   ],
   "source": [
    "dictionary = {\n",
    "    \"first_name\" : \"Gretchen\",\n",
    "    \"last_name\" : \"Elliot\",\n",
    "    \"age\" : \"22\",\n",
    "    \"city\" : \"LA\"\n",
    "}\n",
    "dictionary[\"qualification\"] = \"Graduate\"\n",
    "print(dictionary)"
   ]
  },
  {
   "cell_type": "code",
   "execution_count": 6,
   "metadata": {},
   "outputs": [
    {
     "name": "stdout",
     "output_type": "stream",
     "text": [
      "{'first_name': 'Gretchen', 'last_name': 'Elliot', 'age': '22', 'city': 'LA'}\n"
     ]
    }
   ],
   "source": [
    "dictionary = {\n",
    "    \"first_name\" : \"Gretchen\",\n",
    "    \"last_name\" : \"Elliot\",\n",
    "    \"age\" : \"22\",\n",
    "    \"city\" : \"LA\"\n",
    "}\n",
    "dictionary[\"qualification\"] = \"Graduate\"\n",
    "del dictionary[\"qualification\"]\n",
    "print(dictionary)"
   ]
  },
  {
   "cell_type": "code",
   "execution_count": 27,
   "metadata": {},
   "outputs": [
    {
     "name": "stdout",
     "output_type": "stream",
     "text": [
      "[{'city': 'London', 'Country': 'UK', 'population': '8.9 million', 'fact0': 'Oldest transit system'}, {'city': 'New york', 'Country': 'US', 'population': '8.6 million', 'fact1': 'wall street is in NY.'}, {'city': 'beijing ', 'Country': 'China', 'population': '22 million', 'fact2': 'Beijing Is Famous For The Ancient Chinese Architecture'}]\n"
     ]
    }
   ],
   "source": [
    "cities = [\n",
    "{\"city\" : \"London\",\n",
    "\"Country\" : \"UK\",\n",
    "\"population\" : \"8.9 million\",\n",
    "\"fact0\" : \"Oldest transit system\",\n",
    "},\n",
    "{\"city\" : \"New york\",\n",
    "\"Country\" : \"US\",\n",
    "\"population\" : \"8.6 million\",\n",
    "\"fact1\" : \"wall street is in NY.\",\n",
    "},\n",
    "{\"city\" : \"beijing \",\n",
    "\"Country\" : \"China\",\n",
    "\"population\" : \"22 million\",\n",
    "\"fact2\" : \"Beijing Is Famous For The Ancient Chinese Architecture\",\n",
    "},\n",
    "]\n",
    "print(cities)"
   ]
  },
  {
   "cell_type": "code",
   "execution_count": 32,
   "metadata": {},
   "outputs": [
    {
     "name": "stdout",
     "output_type": "stream",
     "text": [
      "Enter your age : 14\n",
      "Your ticket is 15$\n"
     ]
    }
   ],
   "source": [
    "age = int ( input (\"Enter your age : \"))\n",
    "if age<=3:\n",
    "   print(\"Your Ticket is free\")\n",
    "elif age>3 and age<12:\n",
    "   print(\"Your ticket will be of 10$\")\n",
    "else:\n",
    "   print(\"Your ticket is 15$\")"
   ]
  },
  {
   "cell_type": "code",
   "execution_count": 36,
   "metadata": {},
   "outputs": [
    {
     "name": "stdout",
     "output_type": "stream",
     "text": [
      "One of my favourtite books is Alice in Wonderland.\n"
     ]
    }
   ],
   "source": [
    "def favorite_book(title):\n",
    "    print (\"One of my favourtite books is \" + title)\n",
    "favorite_book(\"Alice in Wonderland.\")\n"
   ]
  },
  {
   "cell_type": "code",
   "execution_count": null,
   "metadata": {},
   "outputs": [],
   "source": [
    "import random\n",
    "\n",
    "randomNumber = random.randrange(1, 30)\n",
    "\n",
    "def main():\n",
    "    print (\"\")\n",
    "    number = int(input(\"I have a number between 1 and 30. Can you guess my number? Please type your first guess: \"))\n",
    "    guess(number)\n",
    "\n",
    "def guess(number1):\n",
    "    correct = False\n",
    "    while not correct:\n",
    "        if number1 > randomNumber:\n",
    "            print (\"Too high. Try again.\")\n",
    "            print (\"\")\n",
    "        elif number1 < randomNumber:\n",
    "            print (\"Too low. Try again.\")\n",
    "            print (\"\")\n",
    "        elif number1 == randomNumber:\n",
    "           break\n",
    "        number1 = input (\"What number do you guess? \")\n",
    "    if number1 == randomNumber:\n",
    "       playAagain = raw_input (\"Excellent! You guessed the number! Would you like to play again (y or n)? \")\n",
    "       if playAagain == \"y\":\n",
    "            main()\n",
    "\n",
    "main()\n"
   ]
  },
  {
   "cell_type": "code",
   "execution_count": null,
   "metadata": {},
   "outputs": [],
   "source": []
  }
 ],
 "metadata": {
  "kernelspec": {
   "display_name": "Python 3",
   "language": "python",
   "name": "python3"
  },
  "language_info": {
   "codemirror_mode": {
    "name": "ipython",
    "version": 3
   },
   "file_extension": ".py",
   "mimetype": "text/x-python",
   "name": "python",
   "nbconvert_exporter": "python",
   "pygments_lexer": "ipython3",
   "version": "3.7.4"
  }
 },
 "nbformat": 4,
 "nbformat_minor": 2
}

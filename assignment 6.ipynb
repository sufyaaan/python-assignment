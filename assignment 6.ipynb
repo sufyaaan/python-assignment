{
 "cells": [
  {
   "cell_type": "code",
   "execution_count": 1,
   "metadata": {},
   "outputs": [],
   "source": [
    "class Car:\n",
    "    def __init__(self,model, color, name, registration, Engine, make):\n",
    "        self.model = model\n",
    "        self.color = color\n",
    "        self.registration = registration\n",
    "        self.Engine=Engine\n",
    "        self.make=make\n",
    "        \n",
    "    def accelerate(self):\n",
    "        self.__speed +=5\n",
    "\n",
    "    def brake(self):\n",
    "        self.__speed -=5\n",
    "\n",
    "    def get_speed(self):\n",
    "        return self.__speed\n",
    "    \n",
    "buyer = Car('2006','Grey','Cultus','oppo','EFI Engine','Suzuki')\n",
    "oppo = Car('2008','White','Cultus','oppo','EFI Engine','Suzuki')\n",
    "Samsung = Car('2006','Grey','Cultus','oppo','EFI Engine','Suzuki')\n",
    "Nokia = Car('2006','Grey','Cultus','oppo','EFI Engine','Suzuki')\n",
    "HTC = Car('2006','Grey','Cultus','oppo','EFI Engine','Suzuki')"
   ]
  },
  {
   "cell_type": "code",
   "execution_count": null,
   "metadata": {},
   "outputs": [],
   "source": []
  }
 ],
 "metadata": {
  "kernelspec": {
   "display_name": "Python 3",
   "language": "python",
   "name": "python3"
  },
  "language_info": {
   "codemirror_mode": {
    "name": "ipython",
    "version": 3
   },
   "file_extension": ".py",
   "mimetype": "text/x-python",
   "name": "python",
   "nbconvert_exporter": "python",
   "pygments_lexer": "ipython3",
   "version": "3.7.4"
  }
 },
 "nbformat": 4,
 "nbformat_minor": 2
}
